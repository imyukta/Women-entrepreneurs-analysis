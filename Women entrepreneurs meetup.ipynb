{
 "cells": [
  {
   "cell_type": "code",
   "execution_count": 2,
   "metadata": {},
   "outputs": [],
   "source": [
    "import pandas as pd\n",
    "import numpy as np\n",
    "import matplotlib.pyplot as plt\n",
    "import seaborn as sns"
   ]
  },
  {
   "cell_type": "code",
   "execution_count": 3,
   "metadata": {},
   "outputs": [
    {
     "data": {
      "text/html": [
       "<div>\n",
       "<style scoped>\n",
       "    .dataframe tbody tr th:only-of-type {\n",
       "        vertical-align: middle;\n",
       "    }\n",
       "\n",
       "    .dataframe tbody tr th {\n",
       "        vertical-align: top;\n",
       "    }\n",
       "\n",
       "    .dataframe thead th {\n",
       "        text-align: right;\n",
       "    }\n",
       "</style>\n",
       "<table border=\"1\" class=\"dataframe\">\n",
       "  <thead>\n",
       "    <tr style=\"text-align: right;\">\n",
       "      <th></th>\n",
       "      <th>Timestamp</th>\n",
       "      <th>Full Name</th>\n",
       "      <th>City</th>\n",
       "      <th>Brief about your start-up</th>\n",
       "    </tr>\n",
       "  </thead>\n",
       "  <tbody>\n",
       "    <tr>\n",
       "      <th>0</th>\n",
       "      <td>2020-08-20 16:39:50.273</td>\n",
       "      <td>Mehak Nayyar</td>\n",
       "      <td>Bareilly</td>\n",
       "      <td>Make handmade products at home related to knit...</td>\n",
       "    </tr>\n",
       "    <tr>\n",
       "      <th>1</th>\n",
       "      <td>2020-08-20 18:08:17.990</td>\n",
       "      <td>Anshika Jain</td>\n",
       "      <td>Sagar</td>\n",
       "      <td>Craft based product design</td>\n",
       "    </tr>\n",
       "    <tr>\n",
       "      <th>2</th>\n",
       "      <td>2020-08-20 18:14:07.821</td>\n",
       "      <td>Bhairavee Pradhan-Nitave</td>\n",
       "      <td>Pune</td>\n",
       "      <td>I am a working professional.</td>\n",
       "    </tr>\n",
       "    <tr>\n",
       "      <th>3</th>\n",
       "      <td>2020-08-20 18:21:00.268</td>\n",
       "      <td>Monika</td>\n",
       "      <td>Chennai</td>\n",
       "      <td>Really new to this  so no idea</td>\n",
       "    </tr>\n",
       "    <tr>\n",
       "      <th>4</th>\n",
       "      <td>2020-08-20 19:32:41.238</td>\n",
       "      <td>Stuti Prasad</td>\n",
       "      <td>MUMBAI</td>\n",
       "      <td>I am working with a road safety startup.</td>\n",
       "    </tr>\n",
       "  </tbody>\n",
       "</table>\n",
       "</div>"
      ],
      "text/plain": [
       "                Timestamp                 Full Name      City  \\\n",
       "0 2020-08-20 16:39:50.273              Mehak Nayyar  Bareilly   \n",
       "1 2020-08-20 18:08:17.990              Anshika Jain     Sagar   \n",
       "2 2020-08-20 18:14:07.821  Bhairavee Pradhan-Nitave      Pune   \n",
       "3 2020-08-20 18:21:00.268                    Monika   Chennai   \n",
       "4 2020-08-20 19:32:41.238              Stuti Prasad    MUMBAI   \n",
       "\n",
       "                          Brief about your start-up   \n",
       "0  Make handmade products at home related to knit...  \n",
       "1                         Craft based product design  \n",
       "2                       I am a working professional.  \n",
       "3                    Really new to this  so no idea   \n",
       "4           I am working with a road safety startup.  "
      ]
     },
     "execution_count": 3,
     "metadata": {},
     "output_type": "execute_result"
    }
   ],
   "source": [
    "df=pd.read_excel(\"Women Entrepreneurs Meetup (Responses).xlsx\")\n",
    "df.head()"
   ]
  },
  {
   "cell_type": "code",
   "execution_count": 4,
   "metadata": {},
   "outputs": [
    {
     "data": {
      "text/plain": [
       "(98, 4)"
      ]
     },
     "execution_count": 4,
     "metadata": {},
     "output_type": "execute_result"
    }
   ],
   "source": [
    "df.shape"
   ]
  },
  {
   "cell_type": "code",
   "execution_count": 99,
   "metadata": {},
   "outputs": [
    {
     "name": "stdout",
     "output_type": "stream",
     "text": [
      "<class 'pandas.core.frame.DataFrame'>\n",
      "RangeIndex: 98 entries, 0 to 97\n",
      "Data columns (total 4 columns):\n",
      " #   Column                      Non-Null Count  Dtype         \n",
      "---  ------                      --------------  -----         \n",
      " 0   Timestamp                   98 non-null     datetime64[ns]\n",
      " 1   Full Name                   98 non-null     object        \n",
      " 2   City                        98 non-null     object        \n",
      " 3   Brief about your start-up   98 non-null     object        \n",
      "dtypes: datetime64[ns](1), object(3)\n",
      "memory usage: 3.2+ KB\n"
     ]
    }
   ],
   "source": [
    "df.info()"
   ]
  },
  {
   "cell_type": "code",
   "execution_count": 100,
   "metadata": {},
   "outputs": [],
   "source": [
    "#df['Time'],df['Date']= df['Date'].apply(lambda x:x.time()), df['Date'].apply(lambda x:x.date())\n",
    "df['Dates'] = pd.to_datetime(df['Timestamp'], format='%Y:%M:%D').dt.date\n",
    "df['Hours'] = pd.to_datetime(df['Timestamp'], format='%Y:%M:%D').dt.time"
   ]
  },
  {
   "cell_type": "code",
   "execution_count": 101,
   "metadata": {},
   "outputs": [
    {
     "data": {
      "text/html": [
       "<div>\n",
       "<style scoped>\n",
       "    .dataframe tbody tr th:only-of-type {\n",
       "        vertical-align: middle;\n",
       "    }\n",
       "\n",
       "    .dataframe tbody tr th {\n",
       "        vertical-align: top;\n",
       "    }\n",
       "\n",
       "    .dataframe thead th {\n",
       "        text-align: right;\n",
       "    }\n",
       "</style>\n",
       "<table border=\"1\" class=\"dataframe\">\n",
       "  <thead>\n",
       "    <tr style=\"text-align: right;\">\n",
       "      <th></th>\n",
       "      <th>Timestamp</th>\n",
       "      <th>Full Name</th>\n",
       "      <th>City</th>\n",
       "      <th>Brief about your start-up</th>\n",
       "      <th>Dates</th>\n",
       "      <th>Hours</th>\n",
       "    </tr>\n",
       "  </thead>\n",
       "  <tbody>\n",
       "    <tr>\n",
       "      <th>0</th>\n",
       "      <td>2020-08-20 16:39:50.273</td>\n",
       "      <td>Mehak Nayyar</td>\n",
       "      <td>Bareilly</td>\n",
       "      <td>Make handmade products at home related to knit...</td>\n",
       "      <td>2020-08-20</td>\n",
       "      <td>16:39:50.273000</td>\n",
       "    </tr>\n",
       "    <tr>\n",
       "      <th>1</th>\n",
       "      <td>2020-08-20 18:08:17.990</td>\n",
       "      <td>Anshika Jain</td>\n",
       "      <td>Sagar</td>\n",
       "      <td>Craft based product design</td>\n",
       "      <td>2020-08-20</td>\n",
       "      <td>18:08:17.990000</td>\n",
       "    </tr>\n",
       "    <tr>\n",
       "      <th>2</th>\n",
       "      <td>2020-08-20 18:14:07.821</td>\n",
       "      <td>Bhairavee Pradhan-Nitave</td>\n",
       "      <td>Pune</td>\n",
       "      <td>I am a working professional.</td>\n",
       "      <td>2020-08-20</td>\n",
       "      <td>18:14:07.821000</td>\n",
       "    </tr>\n",
       "    <tr>\n",
       "      <th>3</th>\n",
       "      <td>2020-08-20 18:21:00.268</td>\n",
       "      <td>Monika</td>\n",
       "      <td>Chennai</td>\n",
       "      <td>Really new to this  so no idea</td>\n",
       "      <td>2020-08-20</td>\n",
       "      <td>18:21:00.268000</td>\n",
       "    </tr>\n",
       "    <tr>\n",
       "      <th>4</th>\n",
       "      <td>2020-08-20 19:32:41.238</td>\n",
       "      <td>Stuti Prasad</td>\n",
       "      <td>MUMBAI</td>\n",
       "      <td>I am working with a road safety startup.</td>\n",
       "      <td>2020-08-20</td>\n",
       "      <td>19:32:41.238000</td>\n",
       "    </tr>\n",
       "  </tbody>\n",
       "</table>\n",
       "</div>"
      ],
      "text/plain": [
       "                Timestamp                 Full Name      City  \\\n",
       "0 2020-08-20 16:39:50.273              Mehak Nayyar  Bareilly   \n",
       "1 2020-08-20 18:08:17.990              Anshika Jain     Sagar   \n",
       "2 2020-08-20 18:14:07.821  Bhairavee Pradhan-Nitave      Pune   \n",
       "3 2020-08-20 18:21:00.268                    Monika   Chennai   \n",
       "4 2020-08-20 19:32:41.238              Stuti Prasad    MUMBAI   \n",
       "\n",
       "                          Brief about your start-up        Dates  \\\n",
       "0  Make handmade products at home related to knit...  2020-08-20   \n",
       "1                         Craft based product design  2020-08-20   \n",
       "2                       I am a working professional.  2020-08-20   \n",
       "3                    Really new to this  so no idea   2020-08-20   \n",
       "4           I am working with a road safety startup.  2020-08-20   \n",
       "\n",
       "             Hours  \n",
       "0  16:39:50.273000  \n",
       "1  18:08:17.990000  \n",
       "2  18:14:07.821000  \n",
       "3  18:21:00.268000  \n",
       "4  19:32:41.238000  "
      ]
     },
     "execution_count": 101,
     "metadata": {},
     "output_type": "execute_result"
    }
   ],
   "source": [
    "df.head()"
   ]
  },
  {
   "cell_type": "code",
   "execution_count": 102,
   "metadata": {},
   "outputs": [],
   "source": [
    "df=df.drop(columns={\"Timestamp\"},axis=1)"
   ]
  },
  {
   "cell_type": "code",
   "execution_count": 107,
   "metadata": {},
   "outputs": [
    {
     "data": {
      "text/html": [
       "<div>\n",
       "<style scoped>\n",
       "    .dataframe tbody tr th:only-of-type {\n",
       "        vertical-align: middle;\n",
       "    }\n",
       "\n",
       "    .dataframe tbody tr th {\n",
       "        vertical-align: top;\n",
       "    }\n",
       "\n",
       "    .dataframe thead th {\n",
       "        text-align: right;\n",
       "    }\n",
       "</style>\n",
       "<table border=\"1\" class=\"dataframe\">\n",
       "  <thead>\n",
       "    <tr style=\"text-align: right;\">\n",
       "      <th></th>\n",
       "      <th>Full Name</th>\n",
       "      <th>City</th>\n",
       "      <th>Brief about your start-up</th>\n",
       "      <th>Dates</th>\n",
       "      <th>Hours</th>\n",
       "    </tr>\n",
       "  </thead>\n",
       "  <tbody>\n",
       "    <tr>\n",
       "      <th>0</th>\n",
       "      <td>Mehak Nayyar</td>\n",
       "      <td>Bareilly</td>\n",
       "      <td>Make handmade products at home related to knit...</td>\n",
       "      <td>2020-08-20</td>\n",
       "      <td>16:39:50.273000</td>\n",
       "    </tr>\n",
       "    <tr>\n",
       "      <th>1</th>\n",
       "      <td>Anshika Jain</td>\n",
       "      <td>Sagar</td>\n",
       "      <td>Craft based product design</td>\n",
       "      <td>2020-08-20</td>\n",
       "      <td>18:08:17.990000</td>\n",
       "    </tr>\n",
       "    <tr>\n",
       "      <th>2</th>\n",
       "      <td>Bhairavee Pradhan-Nitave</td>\n",
       "      <td>Pune</td>\n",
       "      <td>I am a working professional.</td>\n",
       "      <td>2020-08-20</td>\n",
       "      <td>18:14:07.821000</td>\n",
       "    </tr>\n",
       "    <tr>\n",
       "      <th>3</th>\n",
       "      <td>Monika</td>\n",
       "      <td>Chennai</td>\n",
       "      <td>Really new to this  so no idea</td>\n",
       "      <td>2020-08-20</td>\n",
       "      <td>18:21:00.268000</td>\n",
       "    </tr>\n",
       "    <tr>\n",
       "      <th>4</th>\n",
       "      <td>Stuti Prasad</td>\n",
       "      <td>MUMBAI</td>\n",
       "      <td>I am working with a road safety startup.</td>\n",
       "      <td>2020-08-20</td>\n",
       "      <td>19:32:41.238000</td>\n",
       "    </tr>\n",
       "  </tbody>\n",
       "</table>\n",
       "</div>"
      ],
      "text/plain": [
       "                  Full Name      City  \\\n",
       "0              Mehak Nayyar  Bareilly   \n",
       "1              Anshika Jain     Sagar   \n",
       "2  Bhairavee Pradhan-Nitave      Pune   \n",
       "3                    Monika   Chennai   \n",
       "4              Stuti Prasad    MUMBAI   \n",
       "\n",
       "                          Brief about your start-up        Dates  \\\n",
       "0  Make handmade products at home related to knit...  2020-08-20   \n",
       "1                         Craft based product design  2020-08-20   \n",
       "2                       I am a working professional.  2020-08-20   \n",
       "3                    Really new to this  so no idea   2020-08-20   \n",
       "4           I am working with a road safety startup.  2020-08-20   \n",
       "\n",
       "             Hours  \n",
       "0  16:39:50.273000  \n",
       "1  18:08:17.990000  \n",
       "2  18:14:07.821000  \n",
       "3  18:21:00.268000  \n",
       "4  19:32:41.238000  "
      ]
     },
     "execution_count": 107,
     "metadata": {},
     "output_type": "execute_result"
    }
   ],
   "source": [
    "df.head()"
   ]
  },
  {
   "cell_type": "code",
   "execution_count": 119,
   "metadata": {},
   "outputs": [
    {
     "data": {
      "text/plain": [
       "Pune                15\n",
       "Mumbai               6\n",
       "Bangalore            5\n",
       "Guwahati             4\n",
       "Delhi                3\n",
       "Noida                3\n",
       "New Delhi            3\n",
       "Visakhapatnam        2\n",
       "Lucknow              2\n",
       "VISAKHAPATNAM        2\n",
       "Bihar                2\n",
       "Tezpur               2\n",
       "Guwahati             2\n",
       "Shillong             2\n",
       "Hyderabad            2\n",
       "RANCHI               1\n",
       "Chennai              1\n",
       "South West Delhi     1\n",
       "Chintamani           1\n",
       "Dehradun             1\n",
       "Kurukshetra          1\n",
       "Hoshangabad m.p.     1\n",
       "Nashik               1\n",
       "Ghaziabad            1\n",
       "Saharsa              1\n",
       "Udaipur              1\n",
       "Delhi                1\n",
       "Amritsar             1\n",
       "Hyderabad            1\n",
       "Hyd                  1\n",
       "Banglore             1\n",
       "Patna                1\n",
       "Nagpur               1\n",
       "MUMBAI               1\n",
       "London               1\n",
       "Visakhapatnam        1\n",
       "Indore               1\n",
       "Pune                 1\n",
       "Sagar                1\n",
       "Kolkata              1\n",
       "Mumbai               1\n",
       "New delhi            1\n",
       "Raigad               1\n",
       "HYDERABAD            1\n",
       "Bareilly             1\n",
       "VADODARA             1\n",
       "Jagdalpur            1\n",
       "Ponda Goa            1\n",
       "Raipur               1\n",
       "Bareilly             1\n",
       "hyderabad            1\n",
       "Jabalpur             1\n",
       "Navi Mumbai          1\n",
       "Moradabad            1\n",
       "new delhi            1\n",
       "GUWAHATI             1\n",
       "Vadodara             1\n",
       "Yamunanagar          1\n",
       "Name: City, dtype: int64"
      ]
     },
     "execution_count": 119,
     "metadata": {},
     "output_type": "execute_result"
    }
   ],
   "source": [
    "df[\"City\"].value_counts()"
   ]
  },
  {
   "cell_type": "code",
   "execution_count": 127,
   "metadata": {},
   "outputs": [],
   "source": [
    "df[\"City\"]=df[\"City\"].replace({\"Pune \":\"Pune\",\"Mumbai \": \"Mumbai\", \"MUMBAI\":\"Mumbai\",\"Navi Mumbai\":\"Mumbai\",\"Guwahati \":\"Guwahati\",\"GUWAHATI\":\"Guwahati\",\"Delhi \":\"Dehli\",\"Visakhapatnam \":\"Visakhapatnam\",\"VISAKHAPATNAM \":\"Visakhapatnam\",\n",
    "                    \"hyderabad\":\"Hyderabad\",\"HYDERABAD\":\"Hyderabad\",\"Hyderabad \":\"Hyderabad\",\"Hyd\":\"Hyderabad\",\"new delhi\":\"New Delhi\"\n",
    "                              ,\"New delhi\":\"New Delhi\",\"Dehli\":\"Delhi\",\"Bareilly \":\"Bareilly\",\"VADODARA\":\"Vadodara\"}) "
   ]
  },
  {
   "cell_type": "code",
   "execution_count": 128,
   "metadata": {},
   "outputs": [],
   "source": [
    "df= df.rename(columns={'Brief about your start-up':'brief'})"
   ]
  },
  {
   "cell_type": "code",
   "execution_count": 129,
   "metadata": {},
   "outputs": [
    {
     "data": {
      "text/plain": [
       "Hours                         0\n",
       "Dates                         0\n",
       "Brief about your start-up     0\n",
       "City                          0\n",
       "Full Name                     0\n",
       "dtype: int64"
      ]
     },
     "execution_count": 129,
     "metadata": {},
     "output_type": "execute_result"
    }
   ],
   "source": [
    "df.isnull().sum().sort_values(ascending = False)"
   ]
  },
  {
   "cell_type": "code",
   "execution_count": 130,
   "metadata": {},
   "outputs": [
    {
     "data": {
      "text/html": [
       "<div>\n",
       "<style scoped>\n",
       "    .dataframe tbody tr th:only-of-type {\n",
       "        vertical-align: middle;\n",
       "    }\n",
       "\n",
       "    .dataframe tbody tr th {\n",
       "        vertical-align: top;\n",
       "    }\n",
       "\n",
       "    .dataframe thead th {\n",
       "        text-align: right;\n",
       "    }\n",
       "</style>\n",
       "<table border=\"1\" class=\"dataframe\">\n",
       "  <thead>\n",
       "    <tr style=\"text-align: right;\">\n",
       "      <th></th>\n",
       "      <th>Full Name</th>\n",
       "      <th>City</th>\n",
       "      <th>Brief about your start-up</th>\n",
       "      <th>Dates</th>\n",
       "      <th>Hours</th>\n",
       "    </tr>\n",
       "  </thead>\n",
       "  <tbody>\n",
       "    <tr>\n",
       "      <th>0</th>\n",
       "      <td>Mehak Nayyar</td>\n",
       "      <td>Bareilly</td>\n",
       "      <td>Make handmade products at home related to knit...</td>\n",
       "      <td>2020-08-20</td>\n",
       "      <td>16:39:50.273000</td>\n",
       "    </tr>\n",
       "    <tr>\n",
       "      <th>1</th>\n",
       "      <td>Anshika Jain</td>\n",
       "      <td>Sagar</td>\n",
       "      <td>Craft based product design</td>\n",
       "      <td>2020-08-20</td>\n",
       "      <td>18:08:17.990000</td>\n",
       "    </tr>\n",
       "    <tr>\n",
       "      <th>2</th>\n",
       "      <td>Bhairavee Pradhan-Nitave</td>\n",
       "      <td>Pune</td>\n",
       "      <td>I am a working professional.</td>\n",
       "      <td>2020-08-20</td>\n",
       "      <td>18:14:07.821000</td>\n",
       "    </tr>\n",
       "    <tr>\n",
       "      <th>3</th>\n",
       "      <td>Monika</td>\n",
       "      <td>Chennai</td>\n",
       "      <td>Really new to this  so no idea</td>\n",
       "      <td>2020-08-20</td>\n",
       "      <td>18:21:00.268000</td>\n",
       "    </tr>\n",
       "    <tr>\n",
       "      <th>4</th>\n",
       "      <td>Stuti Prasad</td>\n",
       "      <td>Mumbai</td>\n",
       "      <td>I am working with a road safety startup.</td>\n",
       "      <td>2020-08-20</td>\n",
       "      <td>19:32:41.238000</td>\n",
       "    </tr>\n",
       "  </tbody>\n",
       "</table>\n",
       "</div>"
      ],
      "text/plain": [
       "                  Full Name      City  \\\n",
       "0              Mehak Nayyar  Bareilly   \n",
       "1              Anshika Jain     Sagar   \n",
       "2  Bhairavee Pradhan-Nitave      Pune   \n",
       "3                    Monika   Chennai   \n",
       "4              Stuti Prasad    Mumbai   \n",
       "\n",
       "                          Brief about your start-up        Dates  \\\n",
       "0  Make handmade products at home related to knit...  2020-08-20   \n",
       "1                         Craft based product design  2020-08-20   \n",
       "2                       I am a working professional.  2020-08-20   \n",
       "3                    Really new to this  so no idea   2020-08-20   \n",
       "4           I am working with a road safety startup.  2020-08-20   \n",
       "\n",
       "             Hours  \n",
       "0  16:39:50.273000  \n",
       "1  18:08:17.990000  \n",
       "2  18:14:07.821000  \n",
       "3  18:21:00.268000  \n",
       "4  19:32:41.238000  "
      ]
     },
     "execution_count": 130,
     "metadata": {},
     "output_type": "execute_result"
    }
   ],
   "source": [
    "df.head()"
   ]
  },
  {
   "cell_type": "code",
   "execution_count": 131,
   "metadata": {},
   "outputs": [
    {
     "data": {
      "text/plain": [
       "Pune                16\n",
       "Mumbai               9\n",
       "Guwahati             7\n",
       "Hyderabad            6\n",
       "Visakhapatnam        5\n",
       "Bangalore            5\n",
       "New Delhi            5\n",
       "Delhi                4\n",
       "Noida                3\n",
       "Bihar                2\n",
       "Vadodara             2\n",
       "Bareilly             2\n",
       "Shillong             2\n",
       "Lucknow              2\n",
       "Tezpur               2\n",
       "Nagpur               1\n",
       "London               1\n",
       "Jagdalpur            1\n",
       "Patna                1\n",
       "Banglore             1\n",
       "Raigad               1\n",
       "Nashik               1\n",
       "Jabalpur             1\n",
       "Ponda Goa            1\n",
       "Chennai              1\n",
       "RANCHI               1\n",
       "Kolkata              1\n",
       "Raipur               1\n",
       "Hoshangabad m.p.     1\n",
       "Sagar                1\n",
       "Saharsa              1\n",
       "Dehradun             1\n",
       "Chintamani           1\n",
       "South West Delhi     1\n",
       "Amritsar             1\n",
       "Udaipur              1\n",
       "Ghaziabad            1\n",
       "Indore               1\n",
       "Kurukshetra          1\n",
       "Moradabad            1\n",
       "Yamunanagar          1\n",
       "Name: City, dtype: int64"
      ]
     },
     "execution_count": 131,
     "metadata": {},
     "output_type": "execute_result"
    }
   ],
   "source": [
    "df[\"City\"].value_counts()"
   ]
  },
  {
   "cell_type": "code",
   "execution_count": 132,
   "metadata": {},
   "outputs": [],
   "source": [
    "df.to_csv(\"cleaned Women Entrepreneurs Meetup.csv\")"
   ]
  },
  {
   "cell_type": "code",
   "execution_count": null,
   "metadata": {},
   "outputs": [],
   "source": []
  }
 ],
 "metadata": {
  "kernelspec": {
   "display_name": "Python 3",
   "language": "python",
   "name": "python3"
  },
  "language_info": {
   "codemirror_mode": {
    "name": "ipython",
    "version": 3
   },
   "file_extension": ".py",
   "mimetype": "text/x-python",
   "name": "python",
   "nbconvert_exporter": "python",
   "pygments_lexer": "ipython3",
   "version": "3.8.5"
  }
 },
 "nbformat": 4,
 "nbformat_minor": 4
}
